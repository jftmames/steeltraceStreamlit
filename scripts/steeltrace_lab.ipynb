{
 "cells": [
  {
   "cell_type": "markdown",
   "metadata": {},
   "source": [
    "# STEELTRACE™ LAB — Ejecución MVP (Binder, versión corregida)\n",
    "\n",
    "Este cuaderno ejecuta la tubería *stub* del MVP:\n",
    "1️⃣ Ingesta/DQ → 2️⃣ SHACL → 3️⃣ RAGA → 4️⃣ EEE-Gate → 5️⃣ XBRL → 6️⃣ Evidencias (simulado)\n",
    "\n",
    "Está pensado para ejecutarse desde **la carpeta `scripts/` del repo**, ajustando las rutas relativas automáticamente."
   ]
  },
  {
   "cell_type": "code",
   "execution_count": null,
   "metadata": {},
   "outputs": [],
   "source": [
    "import os, pathlib\n",
    "# Si el notebook está en /scripts, sube al root del repo\n",
    "if pathlib.Path.cwd().name == 'scripts':\n",
    "    os.chdir('..')\n",
    "print('📁 Directorio de trabajo actual:', os.getcwd())\n",
    "print('Contenido de nivel superior:', os.listdir('.'))"
   ]
  },
  {
   "cell_type": "markdown",
   "metadata": {},
   "source": [
    "## 1️⃣ Ingesta y control de calidad (MCP)"
   ]
  },
  {
   "cell_type": "code",
   "execution_count": null,
   "metadata": {},
   "outputs": [],
   "source": [
    "!python scripts/mcp_ingest.py\n",
    "print('\\n✅ Ingesta completada. Archivos creados:')\n",
    "!ls -l data/normalized/"
   ]
  },
  {
   "cell_type": "markdown",
   "metadata": {},
   "source": [
    "## 2️⃣ Validación semántica (Ontología + SHACL — stub)"
   ]
  },
  {
   "cell_type": "code",
   "execution_count": null,
   "metadata": {},
   "outputs": [],
   "source": [
    "!python scripts/shacl_validate.py\n",
    "from pathlib import Path\n",
    "print('\\n📄 Resultado SHACL:')\n",
    "print(Path('ontology/validation.log').read_text())"
   ]
  },
  {
   "cell_type": "markdown",
   "metadata": {},
   "source": [
    "## 3️⃣ Razonamiento y KPIs (RAGA — stub)"
   ]
  },
  {
   "cell_type": "code",
   "execution_count": null,
   "metadata": {},
   "outputs": [],
   "source": [
    "!python scripts/raga_compute.py\n",
    "from pathlib import Path\n",
    "print('\\n📈 KPIs generados:')\n",
    "print(Path('raga/kpis.json').read_text())\n",
    "print('\\n🧩 Explicación del razonamiento:')\n",
    "print(Path('raga/explain.json').read_text())"
   ]
  },
  {
   "cell_type": "markdown",
   "metadata": {},
   "source": [
    "## 4️⃣ Control de publicación (EEE-Gate — stub)"
   ]
  },
  {
   "cell_type": "code",
   "execution_count": null,
   "metadata": {},
   "outputs": [],
   "source": [
    "!python scripts/eee_gate.py\n",
    "from pathlib import Path\n",
    "print('\\n🛡️ Gate report:')\n",
    "print(Path('ops/gate_report.json').read_text())\n",
    "print('\\n📄 EEE report:')\n",
    "print(Path('eee/eee_report.json').read_text())"
   ]
  },
  {
   "cell_type": "markdown",
   "metadata": {},
   "source": [
    "## 5️⃣ Generación y validación XBRL — stub"
   ]
  },
  {
   "cell_type": "code",
   "execution_count": null,
   "metadata": {},
   "outputs": [],
   "source": [
    "!python scripts/xbrl_generate.py\n",
    "from pathlib import Path\n",
    "print('\\n🧾 XBRL:')\n",
    "print(Path('xbrl/informe.xbrl').read_text())\n",
    "print('\\n✅ Validación XBRL:')\n",
    "print(Path('xbrl/validation.log').read_text())"
   ]
  },
  {
   "cell_type": "markdown",
   "metadata": {},
   "source": [
    "## 6️⃣ Evidencias (Merkle + TSA simulada — stub)"
   ]
  },
  {
   "cell_type": "code",
   "execution_count": null,
   "metadata": {},
   "outputs": [],
   "source": [
    "!bash scripts/evidence_sign.sh\n",
    "from pathlib import Path\n",
    "print('\\n📚 Manifest de evidencias:')\n",
    "print(Path('evidence/evidence_manifest.json').read_text())\n",
    "print('\\n🕒 Verificación TSA simulada:')\n",
    "print(Path('evidence/verify/2025Q1.txt').read_text())"
   ]
  },
  {
   "cell_type": "markdown",
   "metadata": {},
   "source": [
    "## 7️⃣ Resumen de artefactos generados"
   ]
  },
  {
   "cell_type": "code",
   "execution_count": null,
   "metadata": {},
   "outputs": [],
   "source": [
    "from pathlib import Path\n",
    "paths = [\n",
    "  'data/normalized/energy_2024-01.json',\n",
    "  'ontology/validation.log',\n",
    "  'raga/kpis.json', 'raga/explain.json',\n",
    "  'ops/gate_report.json', 'eee/eee_report.json',\n",
    "  'xbrl/informe.xbrl', 'xbrl/validation.log',\n",
    "  'evidence/evidence_manifest.json', 'evidence/tokens/2025Q1.tsr'\n",
    "]\n",
    "print('📋 Resultado final:')\n",
    "for p in paths:\n",
    "    print(f'{p:50} →', '✅ OK' if Path(p).exists() else '⚠️ MISSING')"
   ]
  },
  {
   "cell_type": "markdown",
   "metadata": {},
   "source": [
    "## 🎯 Fin del flujo MVP\n",
    "\n",
    "Si todos los pasos muestran ✅ OK, el pipeline *stub* funciona correctamente en Binder.\n",
    "\n",
    "Próximos pasos posibles:\n",
    "- Sustituir scripts *stub* por versiones reales (SHACL, TSA, XBRL).\n",
    "- Añadir validación p95 y panel de observabilidad.\n",
    "- Ejecutar réplica B (consultora) para reproducibilidad."
   ]
  }
 ],
 "metadata": {
  "kernelspec": {
   "display_name": "Python 3",
   "language": "python",
   "name": "python3"
  },
  "language_info": {
   "name": "python",
   "version": "3.10"
  }
 },
 "nbformat": 4,
 "nbformat_minor": 5
}
