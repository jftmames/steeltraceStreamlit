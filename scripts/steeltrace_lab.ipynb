{
 "cells": [
  {
   "cell_type": "markdown",
   "metadata": {},
   "source": [
    "# STEELTRACE™ LAB — Ejecución MVP (Binder)\n",
    "\n",
    "Este cuaderno ejecuta la tubería *stub* del MVP:\n",
    "1) Ingesta/DQ → 2) SHACL → 3) RAGA → 4) EEE-Gate → 5) XBRL → 6) Evidencias (simulado)\n",
    "\n",
    "**Nota:** Esta versión usa scripts de ejemplo (stubs) incluidos en el repo. Sirve para validar el *pipeline* y generar artefactos verificables para la consultora."
   ]
  },
  {
   "cell_type": "code",
   "execution_count": null,
   "metadata": {},
   "outputs": [],
   "source": [
    "import os, json, pathlib, sys, subprocess\n",
    "print('Working dir:', os.getcwd())\n",
    "print('Repo tree (top-level):')\n",
    "print('\\n'.join(os.listdir('.')))"
   ]
  },
  {
   "cell_type": "markdown",
   "metadata": {},
   "source": [
    "## 1) Ingesta y DQ (MCP)"
   ]
  },
  {
   "cell_type": "code",
   "execution_count": null,
   "metadata": {},
   "outputs": [],
   "source": [
    "!python scripts/mcp_ingest.py\n",
    "print('\\nOK: data/normalized y data/dq_report.json generados')"
   ]
  },
  {
   "cell_type": "markdown",
   "metadata": {},
   "source": [
    "## 2) Validación semántica (SHACL — stub)"
   ]
  },
  {
   "cell_type": "code",
   "execution_count": null,
   "metadata": {},
   "outputs": [],
   "source": [
    "!python scripts/shacl_validate.py\n",
    "print(open('ontology/validation.log').read())"
   ]
  },
  {
   "cell_type": "markdown",
   "metadata": {},
   "source": [
    "## 3) Razonamiento y KPIs (RAGA — stub)"
   ]
  },
  {
   "cell_type": "code",
   "execution_count": null,
   "metadata": {},
   "outputs": [],
   "source": [
    "!python scripts/raga_compute.py\n",
    "from pathlib import Path\n",
    "print('KPIs:')\n",
    "print(Path('raga/kpis.json').read_text())\n",
    "print('\\nExplain:')\n",
    "print(Path('raga/explain.json').read_text())"
   ]
  },
  {
   "cell_type": "markdown",
   "metadata": {},
   "source": [
    "## 4) Control de publicación (EEE-Gate — stub)"
   ]
  },
  {
   "cell_type": "code",
   "execution_count": null,
   "metadata": {},
   "outputs": [],
   "source": [
    "!python scripts/eee_gate.py\n",
    "from pathlib import Path\n",
    "print(Path('ops/gate_report.json').read_text())\n",
    "print('\\nEEE report:')\n",
    "print(Path('eee/eee_report.json').read_text())"
   ]
  },
  {
   "cell_type": "markdown",
   "metadata": {},
   "source": [
    "## 5) Generación/Validación XBRL — stub"
   ]
  },
  {
   "cell_type": "code",
   "execution_count": null,
   "metadata": {},
   "outputs": [],
   "source": [
    "!python scripts/xbrl_generate.py\n",
    "from pathlib import Path\n",
    "print('XBRL:')\n",
    "print(Path('xbrl/informe.xbrl').read_text())\n",
    "print('\\nXBRL validation:')\n",
    "print(Path('xbrl/validation.log').read_text())"
   ]
  },
  {
   "cell_type": "markdown",
   "metadata": {},
   "source": [
    "## 6) Evidencias (Merkle + TSA simulada — stub)"
   ]
  },
  {
   "cell_type": "code",
   "execution_count": null,
   "metadata": {},
   "outputs": [],
   "source": [
    "!bash scripts/evidence_sign.sh\n",
    "from pathlib import Path\n",
    "print('Manifest:')\n",
    "print(Path('evidence/evidence_manifest.json').read_text())\n",
    "print('\\nVerificación TSA (simulada):')\n",
    "print(Path('evidence/verify/2025Q1.txt').read_text())"
   ]
  },
  {
   "cell_type": "markdown",
   "metadata": {},
   "source": [
    "## 7) Resumen de artefactos generados"
   ]
  },
  {
   "cell_type": "code",
   "execution_count": null,
   "metadata": {},
   "outputs": [],
   "source": [
    "from pathlib import Path\n",
    "paths = [\n",
    "  'data/normalized/energy_2024-01.json',\n",
    "  'ontology/validation.log',\n",
    "  'raga/kpis.json', 'raga/explain.json',\n",
    "  'ops/gate_report.json', 'eee/eee_report.json',\n",
    "  'xbrl/informe.xbrl', 'xbrl/validation.log',\n",
    "  'evidence/evidence_manifest.json', 'evidence/tokens/2025Q1.tsr'\n",
    "]\n",
    "for p in paths:\n",
    "    print(p, '→', 'OK' if Path(p).exists() else 'MISSING')"
   ]
  }
 ],
 "metadata": {
  "kernelspec": { "display_name": "Python 3", "language": "python", "name": "python3" },
  "language_info": { "name": "python", "version": "3.10" }
 },
 "nbformat": 4,
 "nbformat_minor": 5
}
