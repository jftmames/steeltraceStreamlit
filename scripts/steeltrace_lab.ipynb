{
 "cells": [
  {
   "cell_type": "markdown",
   "metadata": {},
   "source": [
    "# STEELTRACE™ LAB — PoC completo (Binder)\n",
    "\n",
    "Pipeline reproducible del MVP académico:\n",
    "1) MCP (ingesta + DQ) → 2) SHACL (E1/S1/G1) → 3) RAGA (KPIs + citas RAG) → 4) EEE-Gate → 5) XBRL → 6) Evidencias (Merkle) → 7) SLO p95 → 8) HITL κ → 9) ZIP\n",
    "\n",
    "**Nota de rutas:** este cuaderno vive en `scripts/`, pero al iniciar cambiamos a la **raíz del repo** automáticamente."
   ]
  },
  {
   "cell_type": "code",
   "execution_count": null,
   "metadata": {},
   "outputs": [],
   "source": [
    "import os, pathlib\n",
    "# Si el notebook está en /scripts, sube al root del repo\n",
    "if pathlib.Path.cwd().name == 'scripts':\n",
    "    os.chdir('..')\n",
    "print('📁 Directorio de trabajo actual:', os.getcwd())\n",
    "print('Contenido de nivel superior:', os.listdir('.'))"
   ]
  },
  {
   "cell_type": "markdown",
   "metadata": {},
   "source": [
    "## 0) Comprobación rápida del entorno (opcional)\n",
    "Si alguna dependencia faltara, revisa `requirements.txt` y relanza Binder."
   ]
  },
  {
   "cell_type": "code",
   "execution_count": null,
   "metadata": {},
   "outputs": [],
   "source": [
    "import sys\n",
    "print('Python:', sys.version)\n",
    "try:\n",
    "    import pandas, rdflib, pyshacl, jsonschema, lxml\n",
    "    print('Deps OK: pandas, rdflib, pyshacl, jsonschema, lxml')\n",
    "except Exception as e:\n",
    "    print('Aviso deps:', e)"
   ]
  },
  {
   "cell_type": "markdown",
   "metadata": {},
   "source": [
    "## 1️⃣ MCP — Ingesta, validación de schema y DQ + linaje (hashes)"
   ]
  },
  {
   "cell_type": "code",
   "execution_count": null,
   "metadata": {},
   "outputs": [],
   "source": [
    "!python scripts/mcp_ingest.py\n",
    "print('\\n✅ Ingesta/DQ completada. Normalizados:')\n",
    "!ls -l data/normalized/\n",
    "print('\\n📄 DQ report:')\n",
    "!sed -n '1,160p' data/dq_report.json\n",
    "print('\\n🔗 Linaje (primeras líneas):')\n",
    "!sed -n '1,5p' data/lineage.jsonl"
   ]
  },
  {
   "cell_type": "markdown",
   "metadata": {},
   "source": [
    "## 2️⃣ Ontología + SHACL — Validación E1/S1/G1 y grafo de linaje RDF (TTL)"
   ]
  },
  {
   "cell_type": "code",
   "execution_count": null,
   "metadata": {},
   "outputs": [],
   "source": [
    "!python scripts/shacl_validate.py\n",
    "from pathlib import Path\n",
    "print('\\n📄 ontology/validation.log (primeros 800 chars):')\n",
    "print(Path('ontology/validation.log').read_text()[:800])\n",
    "print('\\n🔗 ontology/linaje.ttl (primeras 40 líneas):')\n",
    "print('\\n'.join(Path('ontology/linaje.ttl').read_text().splitlines()[:40]))"
   ]
  },
  {
   "cell_type": "markdown",
   "metadata": {},
   "source": [
    "## 3️⃣ RAGA — KPIs E1/S1/G1 + explicaciones (hipótesis-evidencia) + citas RAG (índice versionado)"
   ]
  },
  {
   "cell_type": "code",
   "execution_count": null,
   "metadata": {},
   "outputs": [],
   "source": [
    "!python scripts/raga_compute.py\n",
    "from pathlib import Path\n",
    "print('\\n📈 KPIs:')\n",
    "print(Path('raga/kpis.json').read_text())\n",
    "print('\\n🧩 Explicación:')\n",
    "print(Path('raga/explain.json').read_text()[:1000])"
   ]
  },
  {
   "cell_type": "markdown",
   "metadata": {},
   "source": [
    "## 4️⃣ EEE-Gate — scoring (Epistémico/Explícito/Evidencia) y decisión publish/review/block"
   ]
  },
  {
   "cell_type": "code",
   "execution_count": null,
   "metadata": {},
   "outputs": [],
   "source": [
    "!python scripts/eee_gate.py\n",
    "from pathlib import Path\n",
    "print('\\n🛡️ Gate report (primeros 800 chars):')\n",
    "print(Path('ops/gate_report.json').read_text()[:800])\n",
    "print('\\n📄 eee_report.json:')\n",
    "print(Path('eee/eee_report.json').read_text())"
   ]
  },
  {
   "cell_type": "markdown",
   "metadata": {},
   "source": [
    "## 5️⃣ XBRL — Generación y validación contra XML Schema (Binder-friendly)\n",
    "Para validación ESRS real, usar Arelle en entorno local (fuera de Binder) más adelante."
   ]
  },
  {
   "cell_type": "code",
   "execution_count": null,
   "metadata": {},
   "outputs": [],
   "source": [
    "!python scripts/xbrl_generate.py\n",
    "from pathlib import Path\n",
    "print('\\n🧾 xbrl/informe.xbrl (primeras 20 líneas):')\n",
    "print('\\n'.join(Path('xbrl/informe.xbrl').read_text().splitlines()[:20]))\n",
    "print('\\n✅ xbrl/validation.log:')\n",
    "print(Path('xbrl/validation.log').read_text())"
   ]
  },
  {
   "cell_type": "markdown",
   "metadata": {},
   "source": [
    "## 6️⃣ Evidencias — Hash SHA256 + raíz Merkle + token TSA simulado + manifest JSON\n",
    "Sustituye por TSA real (RFC3161) en despliegues fuera de Binder."
   ]
  },
  {
   "cell_type": "code",
   "execution_count": null,
   "metadata": {},
   "outputs": [],
   "source": [
    "!python scripts/evidence_build.py\n",
    "from pathlib import Path\n",
    "print('\\n📚 Manifest (primeros 800 chars):')\n",
    "print(Path('evidence/evidence_manifest.json').read_text()[:800])\n",
    "print('\\n🕒 Verificación TSA (simulada):')\n",
    "print(Path('evidence/verify/2025Q1.txt').read_text())\n",
    "print('\\n📦 Tokens:')\n",
    "!ls -l evidence/tokens/"
   ]
  },
  {
   "cell_type": "markdown",
   "metadata": {},
   "source": [
    "## 7️⃣ SLO p95 — Orquestación cronometrada de todo el pipeline y acumulación histórica\n",
    "En una ejecución el p95≈max; al repetir runs se estabiliza el p95. Reporte en `ops/slo_report.json` y `ops/slo_history.jsonl`."
   ]
  },
  {
   "cell_type": "code",
   "execution_count": null,
   "metadata": {},
   "outputs": [],
   "source": [
    "!python scripts/pipeline_run.py\n",
    "from pathlib import Path\n",
    "print('\\n📊 SLO report:')\n",
    "print(Path('ops/slo_report.json').read_text())\n",
    "print('\\n🗂️ History (últimas 5 líneas):')\n",
    "!tail -n 5 ops/slo_history.jsonl || true"
   ]
  },
  {
   "cell_type": "markdown",
   "metadata": {},
   "source": [
    "## 8️⃣ HITL — Acuerdo inter-evaluador (κ de Cohen) sobre DP críticos\n",
    "Usa `docs/hitl_reviews.csv`. Objetivo orientativo κ≥0.70; si baja, afinar rúbrica/guía de revisión y muestreo de DPs."
   ]
  },
  {
   "cell_type": "code",
   "execution_count": null,
   "metadata": {},
   "outputs": [],
   "source": [
    "!python scripts/hitl_kappa.py\n",
    "from pathlib import Path\n",
    "print('\\n🧪 κ results:')\n",
    "print(Path('ops/hitl_kappa.json').read_text())"
   ]
  },
  {
   "cell_type": "markdown",
   "metadata": {},
   "source": [
    "## 9️⃣ Paquete ZIP reproducible — Carpeta de evidencias y artefactos para la consultora\n",
    "Genera un ZIP con todo lo necesario para replicar/verificar la corrida (release/audit/*.zip)."
   ]
  },
  {
   "cell_type": "code",
   "execution_count": null,
   "metadata": {},
   "outputs": [],
   "source": [
    "!python scripts/package_release.py\n",
    "!ls -l release/audit/ || true"
   ]
  },
  {
   "cell_type": "markdown",
   "metadata": {},
   "source": [
    "## ✅ Resumen final de artefactos (OK/MISSING)"
   ]
  },
  {
   "cell_type": "code",
   "execution_count": null,
   "metadata": {},
   "outputs": [],
   "source": [
    "from pathlib import Path\n",
    "paths = [\n",
    "  'data/normalized/energy_2024-01.json',\n",
    "  'data/normalized/hr_2024-01.json',\n",
    "  'data/normalized/ethics_2024-01.json',\n",
    "  'ontology/validation.log', 'ontology/linaje.ttl',\n",
    "  'raga/kpis.json', 'raga/explain.json',\n",
    "  'ops/gate_report.json', 'eee/eee_report.json',\n",
    "  'xbrl/informe.xbrl', 'xbrl/validation.log',\n",
    "  'evidence/evidence_manifest.json', 'evidence/tokens/2025Q1.tsr',\n",
    "  'ops/slo_report.json', 'ops/hitl_kappa.json'\n",
    "]\n",
    "print('📋 Resultado final:')\n",
    "for p in paths:\n",
    "    print(f'{p:55} →', '✅ OK' if Path(p).exists() else '⚠️ MISSING')"
   ]
  },
  {
   "cell_type": "markdown",
   "metadata": {},
   "source": [
    "---\n",
    "### Fin del flujo\n",
    "- Si algo sale `MISSING`, vuelve a ejecutar la celda correspondiente.\n",
    "- Para validación XBRL ESRS completa, usa Arelle localmente.\n",
    "- Para TSA real (RFC3161), sustituye el módulo simulado en `evidence_build.py`.\n",
    "\n",
    "Listo para revisión de la consultora y anexar a tu artículo como **material reproducible**."
   ]
  }
 ],
 "metadata": {
  "kernelspec": {
   "display_name": "Python 3",
   "language": "python",
   "name": "python3"
  },
  "language_info": {
   "name": "python",
   "version": "3.10"
  }
 },
 "nbformat": 4,
 "nbformat_minor": 5
}
